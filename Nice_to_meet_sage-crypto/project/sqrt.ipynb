{
 "cells": [
  {
   "cell_type": "code",
   "execution_count": 5,
   "metadata": {},
   "outputs": [
    {
     "name": "stdout",
     "output_type": "stream",
     "text": [
      "[3, 7, 5, 1, 4, 6, 8, 2]\n",
      "True\n"
     ]
    }
   ],
   "source": [
    "a = false\n",
    "while not a:\n",
    "    P = Permutations(8).random_element()\n",
    "    a = bool(P ** 2 == [5, 8, 4, 3, 1, 6, 2, 7])\n",
    "print(P)\n",
    "print(P ** 2 == [5, 8, 4, 3, 1, 6, 2, 7])"
   ]
  },
  {
   "cell_type": "code",
   "execution_count": 4,
   "metadata": {},
   "outputs": [
    {
     "name": "stdout",
     "output_type": "stream",
     "text": [
      "P的平方为: [5, 8, 4, 3, 1, 6, 2, 7]\n",
      "P为: [3, 7, 5, 1, 4, 6, 8, 2]\n"
     ]
    }
   ],
   "source": [
    "from sage.all import *\n",
    "import hashlib\n",
    "P = Permutations(8).random_element()\n",
    "print(\"P的平方为:\",P**2)\n",
    "print(\"P为:\",P)"
   ]
  }
 ],
 "metadata": {
  "kernelspec": {
   "display_name": "SageMath 9.3",
   "language": "sage",
   "name": "sagemath"
  },
  "language_info": {
   "codemirror_mode": {
    "name": "ipython",
    "version": 3
   },
   "file_extension": ".py",
   "mimetype": "text/x-python",
   "name": "python",
   "nbconvert_exporter": "python",
   "pygments_lexer": "ipython3",
   "version": "3.7.10"
  }
 },
 "nbformat": 4,
 "nbformat_minor": 4
}
